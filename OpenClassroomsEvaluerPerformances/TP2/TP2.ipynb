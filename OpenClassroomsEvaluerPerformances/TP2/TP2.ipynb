{
 "cells": [
  {
   "cell_type": "markdown",
   "metadata": {},
   "source": [
    "### Introduction\n",
    "\n",
    "L'objectif de ce TP est d'entraîner un modèle permettant de prédire la qualité du vin rouge en fonction de certaines de ses caractéristiques chimiques. \n",
    "\n",
    "Pour cela, on utilisera la version régression du K-nn, dont on choisira le nombre de voisins à l'aide d'une recherche sur grille réimplémentée dans le module **ma_selection_sur_grille.py** ci-joint. La métrique que l'on cherchera à optimiser sera l'erreur quadratique moyenne, mais on observera également le comportement du coefficient de détermination R².\n",
    "\n",
    "Les données que l'on utilisera sont téléchargeables à l'emplacement suivant: https://archive.ics.uci.edu/ml/machine-learning-databases/wine-quality/winequality-red.csv\n",
    "\n",
    "- **Première partie** : Analyse et traitement préliminaire des données.\n",
    "- **Deuxième partie** : Sélection d'un modèle de K-nn via la fonction de recherche sur grille ré-implémentée. \n",
    "- **Troisième partie** : Comparaison des performances du modèle à celles d’une baseline naïve en fonction de différentes heuristiques.\n",
    "\n",
    "\n",
    "### I. Exploration et traitement préliminaire des données "
   ]
  },
  {
   "cell_type": "code",
   "execution_count": 1,
   "metadata": {},
   "outputs": [
    {
     "name": "stdout",
     "output_type": "stream",
     "text": [
      "Le dataset contient 1599 observations et 12 variables.\n",
      "\n",
      "Les variables présentes dans le dataset sont les suivantes:\n",
      "\t- fixed acidity\n",
      "\t- volatile acidity\n",
      "\t- citric acid\n",
      "\t- residual sugar\n",
      "\t- chlorides\n",
      "\t- free sulfur dioxide\n",
      "\t- total sulfur dioxide\n",
      "\t- density\n",
      "\t- pH\n",
      "\t- sulphates\n",
      "\t- alcohol\n",
      "\t- quality\n",
      "\n"
     ]
    }
   ],
   "source": [
    "import pandas as pd\n",
    "import numpy as np\n",
    "import matplotlib.pyplot as plt\n",
    "\n",
    "# Import des données\n",
    "data = pd.read_csv('winequality-red.csv', sep=\";\")\n",
    "\n",
    "# Exploration rapide\n",
    "m = 'Le dataset contient {0} observations et {1} variables.\\n'\n",
    "print(m.format(data.shape[0], data.shape[1]))\n",
    "\n",
    "m = 'Les variables présentes dans le dataset sont les suivantes:\\n'\n",
    "for feature in list(data.columns):\n",
    "    m += '\\t- ' + feature + '\\n'\n",
    "print(m)\n",
    "\n",
    "# La variable que l'on cherche à prédire est la dernière : 'quality'\n",
    "X = data[data.columns[:-1]]\n",
    "y = data[data.columns[-1]]"
   ]
  },
  {
   "cell_type": "code",
   "execution_count": 2,
   "metadata": {},
   "outputs": [],
   "source": [
    "from sklearn import model_selection\n",
    "\n",
    "# On divise les données du dataset en un jeu d'entraînement et un jeu de test\n",
    "# 30% des données dans le jeu de test\n",
    "X_train, X_test, y_train, y_test = model_selection.train_test_split(X, y,test_size=0.3)"
   ]
  },
  {
   "cell_type": "code",
   "execution_count": 3,
   "metadata": {},
   "outputs": [],
   "source": [
    "from sklearn import preprocessing\n",
    "std_scale = preprocessing.StandardScaler().fit(X_train)\n",
    "X_train_std = std_scale.transform(X_train)\n",
    "X_test_std = std_scale.transform(X_test)"
   ]
  },
  {
   "cell_type": "markdown",
   "metadata": {},
   "source": [
    "### II. Choix du meilleur hyperparamètre pour un classifieur K-nn sur le train set\n",
    "Dans cette partie:\n",
    "\n",
    "- On choisira l'hyperparamètre du modèle K-nn, c'est-à-dire le nombre de voisins considérés pour effectuer la prédiction, via une fonction de recherche sur grille ré-implémentée. <br>NB : cette fonction a déjà été comparée à la recherche de scikit-learn model_selection.GridSearchCV dans un TP précédent, afin de montrer qu'elle en reproduisait correctement le fonctionnement.<br><br>\n",
    "\n",
    "- Le choix final s'effectuera en optimisant l'erreur quadratique moyenne, mais on considérera aussi le coefficient de détermination R². On tentera de comparer les variations de ces deux grandeurs en fonction du nombre de voisins considérés. "
   ]
  },
  {
   "cell_type": "code",
   "execution_count": 4,
   "metadata": {},
   "outputs": [],
   "source": [
    "from ma_selection_sur_grille import Selection_Grille"
   ]
  },
  {
   "cell_type": "code",
   "execution_count": 5,
   "metadata": {
    "scrolled": false
   },
   "outputs": [
    {
     "name": "stdout",
     "output_type": "stream",
     "text": [
      "Meilleur hyperparamètre sur le jeu d'entraînement pour la métrique MSE:\n",
      "\t{'n_neighbors': 15}\n",
      "\n",
      "Résultats de la recherche sur grille pour la métrique MSE:\n",
      "\tmse = 0.484 (+/-0.126) for {'n_neighbors': 3}\n",
      "\tmse = 0.444 (+/-0.109) for {'n_neighbors': 5}\n",
      "\tmse = 0.435 (+/-0.110) for {'n_neighbors': 7}\n",
      "\tmse = 0.435 (+/-0.132) for {'n_neighbors': 9}\n",
      "\tmse = 0.428 (+/-0.119) for {'n_neighbors': 11}\n",
      "\tmse = 0.424 (+/-0.102) for {'n_neighbors': 13}\n",
      "\tmse = 0.421 (+/-0.094) for {'n_neighbors': 15}\n",
      "\tmse = 0.425 (+/-0.077) for {'n_neighbors': 17}\n",
      "\tmse = 0.424 (+/-0.077) for {'n_neighbors': 19}\n",
      "\tmse = 0.426 (+/-0.075) for {'n_neighbors': 21}\n",
      "\tmse = 0.428 (+/-0.072) for {'n_neighbors': 23}\n",
      "\tmse = 0.427 (+/-0.070) for {'n_neighbors': 25}\n",
      "\tmse = 0.424 (+/-0.064) for {'n_neighbors': 27}\n",
      "\tmse = 0.425 (+/-0.066) for {'n_neighbors': 29}\n"
     ]
    }
   ],
   "source": [
    "from sklearn import neighbors, metrics\n",
    "\n",
    "# Fixer les valeurs des hyperparamètres à tester\n",
    "param_grid = {'n_neighbors':[3, 5, 7, 9, 11, 13, 15, 17, 19, 21, 23, 25, 27, 29]}\n",
    "model = neighbors.KNeighborsRegressor()\n",
    "score = 'mse'\n",
    "\n",
    "# Appel de la nouvelle fonction de sélection sur grille\n",
    "clf_mse = Selection_Grille(model,         # un classifieur kNN\n",
    "                           param_grid,    # hyperparamètres à tester\n",
    "                           cv=5,          # nombre de folds\n",
    "                           score=score    # quantité à optimiser\n",
    "                      )\n",
    "\n",
    "clf_mse.fit(X_train_std, y_train)\n",
    "\n",
    "# Afficher le(s) hyperparamètre(s) optimaux\n",
    "m = \"Meilleur hyperparamètre sur le jeu d'entraînement pour la métrique MSE:\\n\\t{0}\\n\"\n",
    "print(m.format(clf_mse.best_params_))\n",
    "\n",
    "# Afficher les performances correspondantes\n",
    "print(\"Résultats de la recherche sur grille pour la métrique MSE:\")\n",
    "for mean, std, params in zip(clf_mse.cv_results_['mean_test_score'], # score moyen\n",
    "                             clf_mse.cv_results_['std_test_score'],  # écart-type \n",
    "                             clf_mse.cv_results_['params']           # hyperparamètre\n",
    "                            ):\n",
    "    m = \"\\t{0} = {1:0.3f} (+/-{2:0.03f}) for {3}\" \n",
    "    print(m.format(score,      # critère utilisé\n",
    "                   mean,       # score moyen\n",
    "                   std * 2,    # barre d'erreur\n",
    "                   params      # hyperparamètre\n",
    "                ))\n",
    "    "
   ]
  },
  {
   "cell_type": "code",
   "execution_count": 6,
   "metadata": {},
   "outputs": [
    {
     "name": "stdout",
     "output_type": "stream",
     "text": [
      "Erreur quadratique moyenne obtenue sur le jeu de test en optimisant MSE : 0.466\n"
     ]
    }
   ],
   "source": [
    "y_pred_mse = clf_mse.predict(X_test_std)\n",
    "m = \"Erreur quadratique moyenne obtenue sur le jeu de test en optimisant MSE : {0:0.3f}\"\n",
    "print(m.format(metrics.mean_squared_error(y_test, y_pred_mse)))"
   ]
  },
  {
   "cell_type": "code",
   "execution_count": 7,
   "metadata": {},
   "outputs": [
    {
     "name": "stdout",
     "output_type": "stream",
     "text": [
      "Meilleur hyperparamètre sur le jeu d'entraînement pour la métrique R²:\n",
      "\t{'n_neighbors': 15}\n",
      "\n",
      "Résultats de la recherche sur grille pour la métrique R²:\n",
      "\tR2 = 0.244 (+/-0.122) for {'n_neighbors': 3}\n",
      "\tR2 = 0.307 (+/-0.084) for {'n_neighbors': 5}\n",
      "\tR2 = 0.321 (+/-0.092) for {'n_neighbors': 7}\n",
      "\tR2 = 0.322 (+/-0.126) for {'n_neighbors': 9}\n",
      "\tR2 = 0.332 (+/-0.108) for {'n_neighbors': 11}\n",
      "\tR2 = 0.339 (+/-0.086) for {'n_neighbors': 13}\n",
      "\tR2 = 0.342 (+/-0.081) for {'n_neighbors': 15}\n",
      "\tR2 = 0.335 (+/-0.062) for {'n_neighbors': 17}\n",
      "\tR2 = 0.336 (+/-0.059) for {'n_neighbors': 19}\n",
      "\tR2 = 0.334 (+/-0.056) for {'n_neighbors': 21}\n",
      "\tR2 = 0.331 (+/-0.061) for {'n_neighbors': 23}\n",
      "\tR2 = 0.332 (+/-0.056) for {'n_neighbors': 25}\n",
      "\tR2 = 0.337 (+/-0.046) for {'n_neighbors': 27}\n",
      "\tR2 = 0.334 (+/-0.054) for {'n_neighbors': 29}\n"
     ]
    }
   ],
   "source": [
    "# On relance la recherche précédente avec la métrique 'coefficient de détermination'\n",
    "score = 'R2'\n",
    "\n",
    "# Appel de la nouvelle fonction de sélection sur grille\n",
    "clf_R2 = Selection_Grille(model,         # un classifieur kNN\n",
    "                          param_grid,    # hyperparamètres à tester\n",
    "                          cv=5,          # nombre de folds\n",
    "                          score=score    # quantité à optimiser\n",
    "                         )\n",
    "\n",
    "clf_R2.fit(X_train_std, y_train)\n",
    "\n",
    "# On vérifie que les deux méthodes d'évaluation aboutissent au même choix:\n",
    "m = \"Meilleur hyperparamètre sur le jeu d'entraînement pour la métrique R²:\\n\\t{0}\\n\"\n",
    "print(m.format(clf_R2.best_params_))\n",
    "\n",
    "# Afficher les performances correspondantes\n",
    "print(\"Résultats de la recherche sur grille pour la métrique R²:\")\n",
    "for mean, std, params in zip(clf_R2.cv_results_['mean_test_score'], # score moyen\n",
    "                             clf_R2.cv_results_['std_test_score'],  # écart-type \n",
    "                             clf_R2.cv_results_['params']           # hyperparamètre\n",
    "                            ):\n",
    "    m = \"\\t{0} = {1:0.3f} (+/-{2:0.03f}) for {3}\" \n",
    "    print(m.format(score,       # critère utilisé\n",
    "                   mean,        # score moyen\n",
    "                   std * 2,     # barre d'erreur\n",
    "                   params       # hyperparamètre\n",
    "                ))"
   ]
  },
  {
   "cell_type": "code",
   "execution_count": 8,
   "metadata": {},
   "outputs": [
    {
     "data": {
      "image/png": "[encoded data removed]",
      "text/plain": [
       "<Figure size 630x420 with 1 Axes>"
      ]
     },
     "metadata": {
      "needs_background": "light"
     },
     "output_type": "display_data"
    }
   ],
   "source": [
    "# On compare maintenant les variations de l'erreur quadratique moyenne\n",
    "# à celles du coefficient de détermination en fonction du nombre\n",
    "# de voisins considérés.\n",
    "\n",
    "# On trace pour cela un graphe des deux grandeurs, MSE en rouge et R² en bleu. \n",
    "# On entoure sur le graphe la valeur optimale sélectionnée par la recherche sur grille. \n",
    "# - Pour l'erreur quadratique moyenne, il s'agira de la plus petite.\n",
    "# - Pour R², il s'agira de la plus grande.\n",
    "# On vérifie que ces valeurs sont atteintes pour le même nombre de voisins.\n",
    "\n",
    "def plot_scores_classifier(classifieur, couleur, label):\n",
    "    \"\"\"\n",
    "    Fonction utilitaire permettant de tracer les valeurs prises \n",
    "    par une métrique (MSE ou R²) en fonction du nombre de voisins.\n",
    "    \"\"\"\n",
    "    nb_voisins = [str(t['n_neighbors']) for t in classifieur.cv_results_['params'] ]\n",
    "    scores = classifieur.cv_results_['mean_test_score']\n",
    "    plt.scatter(nb_voisins, scores, color=couleur, label=label)\n",
    "\n",
    "    # On entoure la meilleure valeur\n",
    "    nb_optimal = classifieur.best_params_['n_neighbors']\n",
    "    \n",
    "    plt.scatter([str(nb_optimal)], \n",
    "                [scores[int((nb_optimal-3)/2)]], \n",
    "                edgecolors=couleur,\n",
    "                facecolors='none',\n",
    "                s=300 )\n",
    "\n",
    "def plot_graph():\n",
    "    plt.figure(figsize=(9, 6), dpi=70)\n",
    "    plot_scores_classifier(clf_mse, 'magenta', 'Erreur quadratique moyenne')\n",
    "    plot_scores_classifier(clf_R2, 'deepskyblue', 'Coefficient de détermination R²')\n",
    "    plt.xlabel('Nombre de voisins')\n",
    "    plt.ylabel('Score du K-nn')\n",
    "    title = 'Evolution de R² et de MSE pour un K-nn en fonction du nombre de voisins.'\n",
    "    plt.title(title)\n",
    "    plt.legend()\n",
    "\n",
    "plot_graph()"
   ]
  },
  {
   "cell_type": "markdown",
   "metadata": {},
   "source": [
    "L'optimisation du modèle K-nn peut donc se faire indifféremment en maximisant le coefficient de détermination *R²* ou en minimisant l'erreur quadratique moyenne *MSE*. Ce n'est pas surprenant étant de donné que ces deux grandeurs sont reliées par la formule suivante: <br>\n",
    "\\begin{equation*}\n",
    "R² \\approx 1 - \\frac{mse}{\\sigma_y^2} \n",
    "\\end{equation*}\n"
   ]
  },
  {
   "cell_type": "code",
   "execution_count": 9,
   "metadata": {},
   "outputs": [
    {
     "data": {
      "image/png": "[encoded data removed]",
      "text/plain": [
       "<Figure size 630x420 with 1 Axes>"
      ]
     },
     "metadata": {
      "needs_background": "light"
     },
     "output_type": "display_data"
    }
   ],
   "source": [
    "# Montrons que la formule ci-dessus est vérifiée dans notre cas.\n",
    "mse = clf_mse.cv_results_['mean_test_score']\n",
    "R2 = clf_R2.cv_results_['mean_test_score']\n",
    "n = len(mse)\n",
    "\n",
    "std_deviation = np.std(y_train)\n",
    "\n",
    "# On calcule pour chaque nombre de voisin le membre de droite de la formule\n",
    "formule = [ (1. - (mse[t]/std_deviation**2)) for t in range(n)]\n",
    "\n",
    "# On affiche le membre de droite de la formule en bleu foncé sur le graphe précédent\n",
    "plot_graph()\n",
    "\n",
    "nb_voisins = [str(t['n_neighbors']) for t in clf_mse.cv_results_['params']]\n",
    "\n",
    "plt.scatter(nb_voisins, formule, \n",
    "            edgecolors='mediumblue', \n",
    "            facecolors='none', \n",
    "            label='Approximation de R²')\n",
    "\n",
    "l = plt.legend()"
   ]
  },
  {
   "cell_type": "markdown",
   "metadata": {},
   "source": [
    "### III. Comparaison des performances à celles de baselines naïves\n",
    "\n",
    "On compare notre modèle aux approches naïves suivantes:\n",
    "- Prédiction aléatoire dans l'espace des valeurs de y_train\n",
    "- Prédiction constante égale à la moyenne des valeurs de y_train\n",
    "\n",
    "On compare les modèles via les heuristiques suivantes:\n",
    "- **MSE**:   Erreur quadratique moyenne.\n",
    "- **RMSE**:  Racine carrée de l'erreur quadratique moyenne.\n",
    "- **RSS**:   Somme des carrés des résidus.\n",
    "- **RSE**:   Erreur carrée relative: RSE = RSS/SST, où SST est la somme des carrés des distances à la moyenne.\n",
    "- **-R²**: Opposé du coefficient de détermination. On multiplie R² par -1 afin qu'il soit optimisable par minimisation comme les autres métriques du dictionnaire."
   ]
  },
  {
   "cell_type": "code",
   "execution_count": 11,
   "metadata": {},
   "outputs": [
    {
     "data": {
      "text/html": [
       "<div>\n",
       "<style scoped>\n",
       "    .dataframe tbody tr th:only-of-type {\n",
       "        vertical-align: middle;\n",
       "    }\n",
       "\n",
       "    .dataframe tbody tr th {\n",
       "        vertical-align: top;\n",
       "    }\n",
       "\n",
       "    .dataframe thead th {\n",
       "        text-align: right;\n",
       "    }\n",
       "</style>\n",
       "<table border=\"1\" class=\"dataframe\">\n",
       "  <thead>\n",
       "    <tr style=\"text-align: right;\">\n",
       "      <th></th>\n",
       "      <th>random</th>\n",
       "      <th>constant</th>\n",
       "      <th>k-nn</th>\n",
       "      <th>best</th>\n",
       "    </tr>\n",
       "  </thead>\n",
       "  <tbody>\n",
       "    <tr>\n",
       "      <td>mse</td>\n",
       "      <td>3.093750</td>\n",
       "      <td>0.677457</td>\n",
       "      <td>0.466333</td>\n",
       "      <td>0.466333</td>\n",
       "    </tr>\n",
       "    <tr>\n",
       "      <td>rmse</td>\n",
       "      <td>1.758906</td>\n",
       "      <td>0.823078</td>\n",
       "      <td>0.682886</td>\n",
       "      <td>0.682886</td>\n",
       "    </tr>\n",
       "    <tr>\n",
       "      <td>rss</td>\n",
       "      <td>1485.000000</td>\n",
       "      <td>325.179366</td>\n",
       "      <td>223.840000</td>\n",
       "      <td>223.840000</td>\n",
       "    </tr>\n",
       "    <tr>\n",
       "      <td>rse</td>\n",
       "      <td>4.566710</td>\n",
       "      <td>1.000000</td>\n",
       "      <td>0.688359</td>\n",
       "      <td>0.688359</td>\n",
       "    </tr>\n",
       "    <tr>\n",
       "      <td>-r2</td>\n",
       "      <td>3.583451</td>\n",
       "      <td>0.003666</td>\n",
       "      <td>-0.309118</td>\n",
       "      <td>-0.309118</td>\n",
       "    </tr>\n",
       "  </tbody>\n",
       "</table>\n",
       "</div>"
      ],
      "text/plain": [
       "           random    constant        k-nn        best\n",
       "mse      3.093750    0.677457    0.466333    0.466333\n",
       "rmse     1.758906    0.823078    0.682886    0.682886\n",
       "rss   1485.000000  325.179366  223.840000  223.840000\n",
       "rse      4.566710    1.000000    0.688359    0.688359\n",
       "-r2      3.583451    0.003666   -0.309118   -0.309118"
      ]
     },
     "execution_count": 11,
     "metadata": {},
     "output_type": "execute_result"
    }
   ],
   "source": [
    "model_comparison = dict()\n",
    "mean_train = np.mean(y_train)\n",
    "prediction_main = [mean_train for t in range(len(y_test))]\n",
    "nt = len(y_test)\n",
    "    \n",
    "def add_model_scores(model, prediction):\n",
    "    \"\"\"\n",
    "    Ajouter un modèle au dictionnaire model_comparison.\n",
    "    \"\"\"    \n",
    "    # On calcule les grandeurs nécessaires pour obtenir l'erreur carrée relative (RSE)\n",
    "    rss = nt * metrics.mean_squared_error(y_test, prediction)\n",
    "    sst = nt * metrics.mean_squared_error(y_test, prediction_main)\n",
    "    rse =  rss / sst    \n",
    "    \n",
    "    model_comparison[model] = {'mse': metrics.mean_squared_error(y_test, prediction),\n",
    "                               'rmse': np.sqrt(metrics.mean_squared_error(y_test, prediction)),\n",
    "                               'rss': rss,\n",
    "                               'rse': rse,\n",
    "                               '-r2': -metrics.r2_score(y_test, prediction)}\n",
    "    \n",
    "y_pred_random = np.random.randint(np.min(y_train), np.max(y_train), y_test.shape)\n",
    "\n",
    "add_model_scores('random', y_pred_random)\n",
    "add_model_scores('constant', prediction_main)\n",
    "add_model_scores('k-nn', y_pred_mse)\n",
    "\n",
    "df = pd.DataFrame(model_comparison)\n",
    "df['best'] = df.min(axis=1)\n",
    "\n",
    "df"
   ]
  },
  {
   "cell_type": "markdown",
   "metadata": {},
   "source": [
    "### Conclusion\n",
    "On voit dans la grille ci-dessus que, pour toutes les heuristiques considérées, le modèle k-nn optimisé grâce à la recherche sur grille est meilleur que les deux modèles naïfs présentés. "
   ]
  }
 ],
 "metadata": {
  "kernelspec": {
   "display_name": "thebestenv",
   "language": "python",
   "name": "thebestenv"
  },
  "language_info": {
   "codemirror_mode": {
    "name": "ipython",
    "version": 3
   },
   "file_extension": ".py",
   "mimetype": "text/x-python",
   "name": "python",
   "nbconvert_exporter": "python",
   "pygments_lexer": "ipython3",
   "version": "3.7.4"
  }
 },
 "nbformat": 4,
 "nbformat_minor": 2
}
